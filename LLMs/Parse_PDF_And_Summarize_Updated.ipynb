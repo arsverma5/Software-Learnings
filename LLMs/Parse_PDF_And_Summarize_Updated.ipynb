{
 "cells": [
  {
   "cell_type": "markdown",
   "id": "3975737f",
   "metadata": {},
   "source": [
    "___Parsing Aesop's Fables to a list of pages___"
   ]
  },
  {
   "cell_type": "code",
   "execution_count": 3,
   "id": "333ef7c9",
   "metadata": {},
   "outputs": [],
   "source": [
    "from PyPDF2 import PdfReader\n",
    "reader = PdfReader('/Users/abhiverma/Downloads/Aesops_Fables_for_children-Illustrated-FKB.pdf')\n",
    "storyBook = []\n",
    "for i in range(len(reader.pages)):\n",
    "    story = reader.pages[i]\n",
    "    storyBook.append(story.extract_text())"
   ]
  },
  {
   "cell_type": "code",
   "execution_count": 6,
   "id": "733bc139",
   "metadata": {},
   "outputs": [],
   "source": [
    "assert len(reader.pages) == len(storyBook)"
   ]
  },
  {
   "cell_type": "code",
   "execution_count": 15,
   "id": "b9a98f3b",
   "metadata": {},
   "outputs": [
    {
     "name": "stdout",
     "output_type": "stream",
     "text": [
      "Aesop's Fables for Children – Illustrated short stories with a moral\n",
      "THE ÆSOP FOR CHILDREN \n",
      "1. THE WOLF AND THE KID \n",
      "There was once a little Kid whose growing\n",
      "horns made him think he was a grown-up\n",
      "Billy Goat and able to take care of himself. So\n",
      "one evening when the fock started home\n",
      "from the pasture and his mother called, the\n",
      "Kid paid no heed and kept right on nibbling\n",
      "the tender grass. A little later when he lifted\n",
      "his head, the fock was gone. \n",
      "He was all alone. The sun was sinking. Long\n",
      "shadows came creeping over the ground. A\n",
      "chilly little wind came creeping with them\n",
      "making scary noises in the grass. The Kid\n",
      "shivered as he thought of the terrible Wolf.\n",
      "Then he started wildly over the feld, bleating\n",
      "for his mother. But not half-way, near a\n",
      "clump of trees, there was the Wolf! \n",
      "The Kid knew there was little hope for him. \n",
      "\"Please, Mr. Wolf,\" he said trembling, \"I know you are going to eat me. But frst please\n",
      "pipe me a tune, for I want to dance and be merry as long as I can.\" \n",
      "The Wolf liked the idea of a little music before eating, so he struck up a merry tune\n",
      "and the Kid leaped and frisked gaily. \n",
      "Meanwhile, the fock was moving slowly homeward. In the still evening air the Wolf's\n",
      "piping carried far. The Shepherd Dogs pricked up their ears. They recognized the song\n",
      "the Wolf sings before a feast, and in a moment they were racing back to the pasture.\n",
      "The Wolf's song ended suddenly, and as he ran, with the Dogs at his heels, he called\n",
      "himself a fool for turning piper to please a Kid, when he should have stuck to his\n",
      "butcher's trade. \n",
      "Moral: Do not let anything turn you from your purpose. \n",
      "Free eBook from https://www.freekidsbooks.org  Page 12\n",
      "\n"
     ]
    }
   ],
   "source": [
    "story1 = storyBook[11]\n",
    "print(story1)"
   ]
  },
  {
   "cell_type": "code",
   "execution_count": 11,
   "id": "ae36c064",
   "metadata": {},
   "outputs": [],
   "source": [
    "from datasets import load_dataset\n",
    "from transformers import pipeline"
   ]
  },
  {
   "cell_type": "code",
   "execution_count": 21,
   "id": "dd198529",
   "metadata": {},
   "outputs": [
    {
     "name": "stdout",
     "output_type": "stream",
     "text": [
      "1670\n"
     ]
    },
    {
     "data": {
      "text/plain": [
       "' \\nThere was once a little Kid whose growing\\nhorns made him think he was a grown-up\\nBilly Goat and able to take care of himself. So\\none evening when the fock started home\\nfrom the pasture and his mother called, the\\nKid paid no heed and kept right on nibbling\\nthe tender grass. A little later when he lifted\\nhis head, the fock was gone. \\nHe was all alone. The sun was sinking. Long\\nshadows came creeping over the ground. A\\nchilly little wind came creeping with them\\nmaking scary noises in the grass. The Kid\\nshivered as he thought of the terrible Wolf.\\nThen he started wildly over the feld, bleating\\nfor his mother. But not half-way, near a\\nclump of trees, there was the Wolf! \\nThe Kid knew there was little hope for him. \\n\"Please, Mr. Wolf,\" he said trembling, \"I know you are going to eat me. But frst please\\npipe me a tune, for I want to dance and be merry as long as I can.\" \\nThe Wolf liked the idea of a little music before eating, so he struck up a merry tune\\nand the Kid leaped and frisked gaily. \\nMeanwhile, the fock was moving slowly homeward. In the still evening air the Wolf\\'s\\npiping carried far. The Shepherd Dogs pricked up their ears. They recognized the song\\nthe Wolf sings before a feast, and in a moment they were racing back to the pasture.\\nThe Wolf\\'s song ended suddenly, and as he ran, with the Dogs at his heels, he called\\nhimself a fool for turning piper to please a Kid, when he should have stuck to his\\nbutcher\\'s trade. \\nMoral: Do not let anything turn you from your purpose'"
      ]
     },
     "execution_count": 21,
     "metadata": {},
     "output_type": "execute_result"
    }
   ],
   "source": [
    "story1 = storyBook[11]\n",
    "print(len(story1))\n",
    "story1 = story1[115:1612]\n",
    "story1"
   ]
  },
  {
   "cell_type": "markdown",
   "id": "b4eb24fb",
   "metadata": {},
   "source": [
    "___Using Google T5-Small LLM___"
   ]
  },
  {
   "cell_type": "code",
   "execution_count": 22,
   "id": "98e0cf10",
   "metadata": {},
   "outputs": [],
   "source": [
    "cache_dir = \"/Users/abhiverma/Documents/Training/Learning\"\n",
    "\n",
    "t5_small_summarizer = pipeline(\n",
    "    task=\"summarization\",\n",
    "    model=\"t5-small\",\n",
    "    min_length=20,\n",
    "    max_length=160,\n",
    "    truncation=True,\n",
    "    model_kwargs={\"cache_dir\": cache_dir},\n",
    ")  # Note: We specify cache_dir to use predownloaded models."
   ]
  },
  {
   "cell_type": "code",
   "execution_count": 23,
   "id": "d079e3ce",
   "metadata": {},
   "outputs": [
    {
     "data": {
      "text/plain": [
       "[{'summary_text': 'the fock started wildly over the feld, bleating for his mother . he struck up a merry tune and the Kid leaped and frisked gaily . in the still evening air the Shepherd Dogs pricked up their ears .'}]"
      ]
     },
     "execution_count": 23,
     "metadata": {},
     "output_type": "execute_result"
    }
   ],
   "source": [
    "# Apply to 1 article\n",
    "t5_small_summarizer(story1)"
   ]
  },
  {
   "cell_type": "markdown",
   "id": "2b5d36e4",
   "metadata": {},
   "source": [
    "___Using Google T5-Base LLM___"
   ]
  },
  {
   "cell_type": "code",
   "execution_count": 25,
   "id": "677d6ed5",
   "metadata": {},
   "outputs": [],
   "source": [
    "cache_dir = \"/Users/abhiverma/Documents/Training/Learning\"\n",
    "\n",
    "t5_base_summarizer = pipeline(\n",
    "    task=\"summarization\",\n",
    "    model=\"t5-base\",\n",
    "    min_length=20,\n",
    "    max_length=160,\n",
    "    truncation=True,\n",
    "    model_kwargs={\"cache_dir\": cache_dir},\n",
    ")  # Note: We specify cache_dir to use predownloaded models."
   ]
  },
  {
   "cell_type": "code",
   "execution_count": 26,
   "id": "f2695c9c",
   "metadata": {},
   "outputs": [
    {
     "name": "stderr",
     "output_type": "stream",
     "text": [
      "Asking to truncate to max_length but no maximum length is provided and the model has no predefined maximum length. Default to no truncation.\n"
     ]
    },
    {
     "data": {
      "text/plain": [
       "[{'summary_text': 'bob greene: a little boy whose growing horns made him think he was a grown-up Billy Goat . he says he kept on nibbling the grass, but when he lifted his head, the fock was gone . greene says the Wolf liked the idea of a tune before eating, so the Kid leaped and frisked .'}]"
      ]
     },
     "execution_count": 26,
     "metadata": {},
     "output_type": "execute_result"
    }
   ],
   "source": [
    "# Apply to 1 article\n",
    "t5_base_summarizer(story1)"
   ]
  },
  {
   "cell_type": "markdown",
   "id": "ee44d43f",
   "metadata": {},
   "source": [
    "___Using Falconsai Summarizer LLM___"
   ]
  },
  {
   "cell_type": "code",
   "execution_count": 30,
   "id": "828aa48e",
   "metadata": {},
   "outputs": [
    {
     "data": {
      "application/vnd.jupyter.widget-view+json": {
       "model_id": "79677775aa904cf99485915886ba4342",
       "version_major": 2,
       "version_minor": 0
      },
      "text/plain": [
       "config.json:   0%|          | 0.00/1.49k [00:00<?, ?B/s]"
      ]
     },
     "metadata": {},
     "output_type": "display_data"
    },
    {
     "data": {
      "application/vnd.jupyter.widget-view+json": {
       "model_id": "b1531fb447204fbdbae1f1a6e80f0dd9",
       "version_major": 2,
       "version_minor": 0
      },
      "text/plain": [
       "model.safetensors:   0%|          | 0.00/242M [00:00<?, ?B/s]"
      ]
     },
     "metadata": {},
     "output_type": "display_data"
    },
    {
     "data": {
      "application/vnd.jupyter.widget-view+json": {
       "model_id": "dcff84991f7b4aee9c7e07c702902864",
       "version_major": 2,
       "version_minor": 0
      },
      "text/plain": [
       "generation_config.json:   0%|          | 0.00/112 [00:00<?, ?B/s]"
      ]
     },
     "metadata": {},
     "output_type": "display_data"
    },
    {
     "data": {
      "application/vnd.jupyter.widget-view+json": {
       "model_id": "d503e57d197a47578ffecf33a2124fe5",
       "version_major": 2,
       "version_minor": 0
      },
      "text/plain": [
       "tokenizer_config.json:   0%|          | 0.00/2.32k [00:00<?, ?B/s]"
      ]
     },
     "metadata": {},
     "output_type": "display_data"
    },
    {
     "data": {
      "application/vnd.jupyter.widget-view+json": {
       "model_id": "e2b5888da2044acc84c1b33180f6eb54",
       "version_major": 2,
       "version_minor": 0
      },
      "text/plain": [
       "spiece.model:   0%|          | 0.00/792k [00:00<?, ?B/s]"
      ]
     },
     "metadata": {},
     "output_type": "display_data"
    },
    {
     "data": {
      "application/vnd.jupyter.widget-view+json": {
       "model_id": "e520fb88f0ae4a88ad7d6c9e5fd6b948",
       "version_major": 2,
       "version_minor": 0
      },
      "text/plain": [
       "tokenizer.json:   0%|          | 0.00/2.42M [00:00<?, ?B/s]"
      ]
     },
     "metadata": {},
     "output_type": "display_data"
    },
    {
     "data": {
      "application/vnd.jupyter.widget-view+json": {
       "model_id": "27dc48fb6f2d4b49b11808363ee83a7e",
       "version_major": 2,
       "version_minor": 0
      },
      "text/plain": [
       "special_tokens_map.json:   0%|          | 0.00/2.20k [00:00<?, ?B/s]"
      ]
     },
     "metadata": {},
     "output_type": "display_data"
    }
   ],
   "source": [
    "falconsai_summarizer = pipeline(\n",
    "    task=\"summarization\", \n",
    "    model=\"Falconsai/text_summarization\",\n",
    "    model_kwargs={\"cache_dir\": cache_dir},\n",
    ")"
   ]
  },
  {
   "cell_type": "code",
   "execution_count": 31,
   "id": "595383ec",
   "metadata": {},
   "outputs": [
    {
     "name": "stdout",
     "output_type": "stream",
     "text": [
      "[{'summary_text': 'The Kid shivered as he thought of the terrible Wolf . But not half-way, near a clump of trees, there was the Wolf! The Wolf liked the idea of a little music before eating .'}]\n"
     ]
    }
   ],
   "source": [
    "print(falconsai_summarizer(story1, max_length=400, min_length=30, do_sample=False))"
   ]
  },
  {
   "cell_type": "code",
   "execution_count": 48,
   "id": "e44d8bc8",
   "metadata": {},
   "outputs": [
    {
     "name": "stdout",
     "output_type": "stream",
     "text": [
      "1134\n"
     ]
    },
    {
     "data": {
      "text/plain": [
       "'The Peacock, they say, did not at frst have the beautiful feathers in which he now \\ntakes so much pride. These, Juno, whose favorite he was, granted to him one day when\\nhe begged her for a train of feathers to distinguish him from the other birds. Then, \\ndecked in his fnery, gleaming with emerald, gold, purple, and azure, he strutted \\nproudly among the birds. All regarded him with envy. Even the most beautiful \\npheasant could see that his beauty was surpassed. \\nPresently the Peacock saw an Eagle soaring high up in the blue sky and felt a desire to \\nfy, as he had been accustomed to do. Lifting his wings he tried to rise from the \\nground. But the weight of his magnifcent train held him down. Instead of fying up to \\ngreet the frst rays of the morning sun or to bathe in the rosy light among the foating \\nclouds at sunset, he would have to walk the ground more encumbered and oppressed \\nthan any common barnyard fowl. \\nMoral: Do not sacrifce your freedom for the sake of pomp and show. \\nF'"
      ]
     },
     "execution_count": 48,
     "metadata": {},
     "output_type": "execute_result"
    }
   ],
   "source": [
    "story52 = storyBook[50]\n",
    "print(len(story52))\n",
    "story52 = story52[86:1080]\n",
    "story52"
   ]
  },
  {
   "cell_type": "code",
   "execution_count": 51,
   "id": "c9354c39",
   "metadata": {},
   "outputs": [
    {
     "name": "stdout",
     "output_type": "stream",
     "text": [
      "[{'summary_text': 'Juno, whose favorite he was, begged her for a train of feathers to distinguish him from the other birds . The Peacock saw an Eagle soaring high up in the blue sky and felt a desire to fy, as he had'}]\n"
     ]
    }
   ],
   "source": [
    "print(falconsai_summarizer(story52, max_length=60, min_length=30, do_sample=False))"
   ]
  },
  {
   "cell_type": "markdown",
   "id": "a2b10e14",
   "metadata": {},
   "source": [
    "___Using Pszemraj long-t5-tglobal-base-16384-book-summary LLM___"
   ]
  },
  {
   "cell_type": "code",
   "execution_count": 53,
   "id": "0612cc98",
   "metadata": {},
   "outputs": [
    {
     "data": {
      "application/vnd.jupyter.widget-view+json": {
       "model_id": "74476d2a40184121ace892626e8e50c4",
       "version_major": 2,
       "version_minor": 0
      },
      "text/plain": [
       "config.json:   0%|          | 0.00/1.05k [00:00<?, ?B/s]"
      ]
     },
     "metadata": {},
     "output_type": "display_data"
    },
    {
     "data": {
      "application/vnd.jupyter.widget-view+json": {
       "model_id": "28e3ae2a8ba745ea81f9713bcc148597",
       "version_major": 2,
       "version_minor": 0
      },
      "text/plain": [
       "model.safetensors:   0%|          | 0.00/990M [00:00<?, ?B/s]"
      ]
     },
     "metadata": {},
     "output_type": "display_data"
    },
    {
     "data": {
      "application/vnd.jupyter.widget-view+json": {
       "model_id": "a1c72b6fd9ed45c191edcda93da15044",
       "version_major": 2,
       "version_minor": 0
      },
      "text/plain": [
       "tokenizer_config.json:   0%|          | 0.00/2.36k [00:00<?, ?B/s]"
      ]
     },
     "metadata": {},
     "output_type": "display_data"
    },
    {
     "data": {
      "application/vnd.jupyter.widget-view+json": {
       "model_id": "fec34f3aa6644693b4a33afa9ce1762e",
       "version_major": 2,
       "version_minor": 0
      },
      "text/plain": [
       "spiece.model:   0%|          | 0.00/792k [00:00<?, ?B/s]"
      ]
     },
     "metadata": {},
     "output_type": "display_data"
    },
    {
     "data": {
      "application/vnd.jupyter.widget-view+json": {
       "model_id": "a7056c149c9a4405a9c3e47937bf9e96",
       "version_major": 2,
       "version_minor": 0
      },
      "text/plain": [
       "tokenizer.json:   0%|          | 0.00/2.42M [00:00<?, ?B/s]"
      ]
     },
     "metadata": {},
     "output_type": "display_data"
    },
    {
     "data": {
      "application/vnd.jupyter.widget-view+json": {
       "model_id": "232f9fd156de4ed99c207bc3652dc131",
       "version_major": 2,
       "version_minor": 0
      },
      "text/plain": [
       "special_tokens_map.json:   0%|          | 0.00/2.20k [00:00<?, ?B/s]"
      ]
     },
     "metadata": {},
     "output_type": "display_data"
    }
   ],
   "source": [
    "import torch\n",
    "\n",
    "booksum_longt5 = pipeline(\n",
    "    task=\"summarization\",\n",
    "    model=\"pszemraj/long-t5-tglobal-base-16384-book-summary\",\n",
    "    device=0 if torch.cuda.is_available() else -1,\n",
    "    model_kwargs={\"cache_dir\": cache_dir},\n",
    ")"
   ]
  },
  {
   "cell_type": "code",
   "execution_count": 55,
   "id": "f2e7dfdc",
   "metadata": {},
   "outputs": [
    {
     "name": "stderr",
     "output_type": "stream",
     "text": [
      "/Users/abhiverma/anaconda3/lib/python3.11/site-packages/transformers/modeling_utils.py:916: FutureWarning: The `device` argument is deprecated and will be removed in v5 of Transformers.\n",
      "  warnings.warn(\n"
     ]
    },
    {
     "name": "stdout",
     "output_type": "stream",
     "text": [
      "[{'summary_text': 'The peacock has lost his feathers and is now proud of how much he resembles the other birds in the flock. In fact, they all regard him as an envying bird because he stands out from the rest of the birds.'}]\n"
     ]
    }
   ],
   "source": [
    "print(booksum_longt5(story52, max_length=80, min_length=30, do_sample=True))"
   ]
  },
  {
   "cell_type": "markdown",
   "id": "defd0e82",
   "metadata": {},
   "source": [
    "___Using Helsinki-NLP Translation Model___"
   ]
  },
  {
   "cell_type": "code",
   "execution_count": 56,
   "id": "fd749854",
   "metadata": {},
   "outputs": [],
   "source": [
    "en_to_es_translation_pipeline = pipeline(\n",
    "    task=\"translation\",\n",
    "    model=\"Helsinki-NLP/opus-mt-en-es\",\n",
    "    model_kwargs={\"cache_dir\": cache_dir},\n",
    ")"
   ]
  },
  {
   "cell_type": "code",
   "execution_count": 57,
   "id": "9a35bf50",
   "metadata": {},
   "outputs": [
    {
     "data": {
      "text/plain": [
       "[{'translation_text': 'Una vez un pequeño Kid cuyos cuernos crecían le hicieron pensar que era un Billy Goat adulto y capaz de cuidarse a sí mismo. Así que una noche cuando el Fock comenzó a casa desde el pasto y su madre llamó, el Kid no hizo caso y se mantuvo a la derecha mordiendo la hierba tierna. Un poco más tarde cuando levantó la cabeza, el Fock se había ido. Él estaba completamente solo. El sol se hundía. Las largas sombras vinieron arrastrando sobre el suelo. Un pequeño viento frío se arrastraba con ellos haciendo ruidos aterradores en la hierba. El Kid tembló mientras pensaba en el terrible Lobo. Entonces comenzó salvajemente sobre el feld, balbuceando para su madre. Pero no a mitad de camino, cerca de un montón de árboles, estaba el Lobo! El Kid sabía que había poca esperanza para él. \"Por favor, el Sr. Wolf\", dijo tembloroso, \"sé que me ibas a comer. Pero por favor me caía en la cabeza, por favor me caía en la punta de la punta de la punta de la punta de la punta y se ponía en la punta de la punta de la punta de la punta de la punta.'}]"
      ]
     },
     "execution_count": 57,
     "metadata": {},
     "output_type": "execute_result"
    }
   ],
   "source": [
    "en_to_es_translation_pipeline(story1)"
   ]
  },
  {
   "cell_type": "code",
   "execution_count": 58,
   "id": "be3256e6",
   "metadata": {},
   "outputs": [
    {
     "data": {
      "text/plain": [
       "[{'translation_text': 'El pavo real, dicen, no tenía en frest las plumas hermosas en las que ahora toma tanto orgullo. Estos, Juno, cuyo favorito era, le concedió un día cuando él le rogó un tren de plumas para distinguirlo de las otras aves. Entonces, adornado con su fnery, brillando con esmeralda, oro, púrpura y azul, se pavoneó orgullosamente entre las aves. Todos lo miraban con envidia. Incluso el faisán más hermoso podía ver que su belleza era superada. Actualmente el pavo real vio un águila que se elevaba alto en el cielo azul y sintió un deseo de volar, como había estado acostumbrado a hacerlo. Levantando sus alas trató de levantarse de la tierra. Pero el peso de su magnifcent tren lo sostuvo. En lugar de fiar para saludar los rayos fres del sol de la mañana o bañarse en la luz del rosario entre las nubes del atardecer, él tendría que caminar el suelo más ocupado y oprimido que cualquier ave del corral común.'}]"
      ]
     },
     "execution_count": 58,
     "metadata": {},
     "output_type": "execute_result"
    }
   ],
   "source": [
    "en_to_es_translation_pipeline(story52)"
   ]
  }
 ],
 "metadata": {
  "kernelspec": {
   "display_name": "Python 3 (ipykernel)",
   "language": "python",
   "name": "python3"
  },
  "language_info": {
   "codemirror_mode": {
    "name": "ipython",
    "version": 3
   },
   "file_extension": ".py",
   "mimetype": "text/x-python",
   "name": "python",
   "nbconvert_exporter": "python",
   "pygments_lexer": "ipython3",
   "version": "3.11.5"
  }
 },
 "nbformat": 4,
 "nbformat_minor": 5
}
